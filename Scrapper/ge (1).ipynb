{
 "cells": [
  {
   "cell_type": "code",
   "execution_count": null,
   "metadata": {},
   "outputs": [],
   "source": [
    "import requests as req\n",
    "import pandas as pd\n",
    "from bs4 import BeautifulSoup\n",
    "from selenium import webdriver\n",
    "from selenium.webdriver.support.select import Select\n",
    "from selenium.webdriver.common.keys import Keys\n",
    "import re\n",
    "import time\n",
    "import spacy\n",
    "nlp = spacy.load(\"en_core_web_md\")"
   ]
  },
  {
   "cell_type": "code",
   "execution_count": null,
   "metadata": {},
   "outputs": [],
   "source": [
    "def get_ent(result_out,doc_txt):\n",
    "    doc = nlp(doc_txt)\n",
    "    ORG=[]\n",
    "    Dates=[]\n",
    "    Money=[]\n",
    "    Other=[]\n",
    "    for ent in doc.ents:\n",
    "        if ent.label_.upper() in ['PERSON','ORG']:\n",
    "            ORG.append(ent.text)\n",
    "        elif ent.label_.upper() in ['TIME','DATE']:\n",
    "            Dates.append(ent.text)\n",
    "        elif ent.label_.upper() in ['MONEY']:\n",
    "            Money.append(ent.text)\n",
    "        else:\n",
    "            Other.append(ent.text)\n",
    "\n",
    "    add_to_dict(result_out,'ORG','|'.join(ORG))\n",
    "    add_to_dict(result_out,'Money','|'.join(Money))\n",
    "    add_to_dict(result_out,'Other','|'.join(Other))\n",
    "    add_to_dict(result_out,'Dates','|'.join(Dates))"
   ]
  },
  {
   "cell_type": "code",
   "execution_count": null,
   "metadata": {},
   "outputs": [],
   "source": [
    "result_out={}"
   ]
  },
  {
   "cell_type": "code",
   "execution_count": null,
   "metadata": {},
   "outputs": [],
   "source": [
    "# doc = nlp(\" Lupin contributes Rs 21 crores towards COVID-19 relief efforts EP News Bureau Apr 11, 2020 The contributions were made separately by Lupin’s employees, the Company and the promoter family\")\n"
   ]
  },
  {
   "cell_type": "code",
   "execution_count": null,
   "metadata": {},
   "outputs": [],
   "source": [
    "def add_to_dict(dictionary, key, value):\n",
    "    if type(value)==list:\n",
    "        for val in value:\n",
    "            setKey(dictionary,key,val)\n",
    "    else:\n",
    "        if key not in dictionary:\n",
    "            dictionary[key] = [value]\n",
    "        elif type(dictionary[key]) == list:\n",
    "            dictionary[key].append(value)\n",
    "        else:\n",
    "            dictionary[key] = [dictionary[key], value]\n",
    "\n",
    "def get_filtered_article(article_list,keyword_list,result_out,page_no):\n",
    "    for article in article_list:\n",
    "        art_txt=article.text\n",
    "        art_txt_clean=re.sub(\"[^A-Za-z0-9 ]\", \" \",art_txt)\n",
    "        art_txt_clean=re.sub(\" +\", \" \",art_txt_clean).lower()\n",
    "        match_found=bool(re.search(keyword_list,art_txt_clean,re.IGNORECASE))\n",
    "        art_url_title=article.find_element_by_tag_name('a')\n",
    "        attr_url=''\n",
    "        attr_url=art_url_title.get_attribute('href')\n",
    "        # print(attr_url)\n",
    "        # attr_title=art_url_title.text\n",
    "        if match_found==True:\n",
    "            match_words=re.findall(keyword_list,art_txt_clean,re.IGNORECASE)\n",
    "            # add_to_dict(result_out,'Article_Title',attr_title)\n",
    "            add_to_dict(result_out,'Article_Text',art_txt)\n",
    "            add_to_dict(result_out,'Web_Page_No',page_no)\n",
    "            add_to_dict(result_out,'Article_URL',attr_url)\n",
    "            add_to_dict(result_out,'Matchd_words','|'.join(match_words))\n",
    "            get_ent(result_out,art_txt)\n",
    "        \n"
   ]
  },
  {
   "cell_type": "code",
   "execution_count": null,
   "metadata": {},
   "outputs": [],
   "source": [
    "# os.chdir(\"C:\\\\Users\\\\DINES\\\\Desktop\\\\Development\\\\Amod_DataScience\\\\WebScrap\\\\TenderApp\\\\\")\n",
    "driver = webdriver.Chrome('chromedriver\\\\81\\\\chromedriver.exe')\n",
    "driver.maximize_window()\n"
   ]
  },
  {
   "cell_type": "markdown",
   "metadata": {},
   "source": [
    "## Keyword List"
   ]
  },
  {
   "cell_type": "code",
   "execution_count": null,
   "metadata": {},
   "outputs": [],
   "source": [
    "keyword_list=(' contribut| aid| donate| fund')"
   ]
  },
  {
   "cell_type": "markdown",
   "metadata": {},
   "source": [
    "### Extract Data for WHO"
   ]
  },
  {
   "cell_type": "code",
   "execution_count": null,
   "metadata": {},
   "outputs": [],
   "source": [
    "page=driver.get('https://www.who.int/emergencies/diseases/novel-coronavirus-2019/donors-and-partners/funding')\n",
    "ele_tbl=driver.find_element_by_tag_name('body')\n",
    "tbl_HTML=ele_tbl.get_attribute(\"outerHTML\")\n",
    "soup=BeautifulSoup(tbl_HTML,'html.parser')\n",
    "df_out=pd.read_html(tbl_HTML,header=0)\n",
    "df_result=pd.DataFrame()\n",
    "for df in df_out:\n",
    "    df_result=df_result.append(df)\n",
    "df_result.to_csv('Output/who.csv',index=False)"
   ]
  },
  {
   "cell_type": "code",
   "execution_count": null,
   "metadata": {},
   "outputs": [],
   "source": [
    "df_result"
   ]
  },
  {
   "cell_type": "markdown",
   "metadata": {},
   "source": [
    "### Extract Data For express Pharma"
   ]
  },
  {
   "cell_type": "code",
   "execution_count": null,
   "metadata": {},
   "outputs": [],
   "source": [
    "result_out={}\n",
    "# need to include data starting for this year\n",
    "for page_index in range(1,14):\n",
    "    driver.get('https://www.expresspharma.in/page/' + str(page_index) +'/?s=covid-19')\n",
    "    article_list=driver.find_elements_by_tag_name('article')\n",
    "    get_filtered_article(article_list,keyword_list,result_out,page_index)\n",
    "df_out=pd.DataFrame.from_dict(result_out)\n",
    "df_out.to_csv('output/express_pharma.csv')"
   ]
  },
  {
   "cell_type": "markdown",
   "metadata": {},
   "source": [
    "### Extract Data for weforum"
   ]
  },
  {
   "cell_type": "code",
   "execution_count": null,
   "metadata": {},
   "outputs": [],
   "source": [
    "result_out={}\n",
    "pageNo=10\n",
    "driver.get('https://www.weforum.org/search?query=covid-19')\n",
    "for page_index in range(1,pageNo):\n",
    "    time.sleep(2)\n",
    "    driver.execute_script('window.scrollTo(0,document.body.scrollHeight);')\n",
    "    next_ele=driver.find_elements_by_class_name('gsc-cursor-page')[page_index]\n",
    "    next_ele.click()\n",
    "    time.sleep(2)\n",
    "    article_list=driver.find_elements_by_class_name('gsc-result')\n",
    "    get_filtered_article(article_list,keyword_list,result_out,page_index)\n",
    "df_out=pd.DataFrame.from_dict(result_out)\n",
    "df_out.to_csv('output/weforum.csv')"
   ]
  },
  {
   "cell_type": "markdown",
   "metadata": {},
   "source": [
    "### Extracting data for BBC"
   ]
  },
  {
   "cell_type": "code",
   "execution_count": null,
   "metadata": {},
   "outputs": [],
   "source": [
    "article_list"
   ]
  },
  {
   "cell_type": "code",
   "execution_count": null,
   "metadata": {},
   "outputs": [],
   "source": [
    "result_out={}\n",
    "pageNo=3\n",
    "for page_index in range(1,pageNo+1):\n",
    "    driver.get('https://www.bbc.co.uk/search?q=covid-19+fund&page=' + str(page_index))\n",
    "    article_list=driver.find_elements_by_class_name('css-14rwwjy-Promo')\n",
    "    get_filtered_article(article_list,keyword_list,result_out,page_index)\n",
    "df_out=pd.DataFrame.from_dict(result_out)\n",
    "df_out.to_csv('output/bbc.csv')"
   ]
  },
  {
   "cell_type": "markdown",
   "metadata": {},
   "source": [
    "### Extracting data for IndiaToday"
   ]
  },
  {
   "cell_type": "code",
   "execution_count": null,
   "metadata": {},
   "outputs": [],
   "source": [
    "df_out=pd.DataFrame.from_dict(result_out)\n",
    "df_out.to_csv('output/indiaToday.csv')"
   ]
  },
  {
   "cell_type": "code",
   "execution_count": null,
   "metadata": {},
   "outputs": [],
   "source": []
  },
  {
   "cell_type": "code",
   "execution_count": null,
   "metadata": {},
   "outputs": [],
   "source": [
    "result_out={}\n",
    "pageNo=300\n",
    "for page_index in range(1,pageNo+1):\n",
    "    driver.get('https://www.indiatoday.in/topic/covid-19?page=' + str(page_index-1))\n",
    "    article_list=driver.find_elements_by_class_name('itg-search-list')\n",
    "    get_filtered_article(article_list,keyword_list,result_out,page_index)\n",
    "df_out=pd.DataFrame.from_dict(result_out)\n",
    "df_out.to_csv('output/indiaToday.csv')"
   ]
  },
  {
   "cell_type": "code",
   "execution_count": null,
   "metadata": {},
   "outputs": [],
   "source": [
    "df_out"
   ]
  },
  {
   "cell_type": "markdown",
   "metadata": {},
   "source": [
    "### Extracting Data for IMF"
   ]
  },
  {
   "cell_type": "code",
   "execution_count": null,
   "metadata": {},
   "outputs": [],
   "source": [
    "result_out={}\n",
    "# https://www.imf.org/en/Search#q=covid-19&sort=relevancy\n",
    "# https://www.imf.org/en/Search#q=covid-19&first=10&sort=relevancy\n",
    "pageNo=32\n",
    "for page_index in range(0,pageNo):\n",
    "    if page_index==0:\n",
    "        driver.get('https://www.imf.org/en/Search#q=covid-19&sort=relevancy')\n",
    "    else:\n",
    "        driver.get('https://www.imf.org/en/Search#q=covid-19&first=' +str(page_index) +'0&sort=relevancy')\n",
    "    time.sleep(3)\n",
    "    article_list=driver.find_elements_by_class_name('coveo-result-item')\n",
    "    get_filtered_article(article_list,keyword_list,result_out,page_index)\n",
    "df_out=pd.DataFrame.from_dict(result_out)\n",
    "df_out.to_csv('output/IMF.csv')"
   ]
  },
  {
   "cell_type": "markdown",
   "metadata": {},
   "source": [
    "### Extracting data for ADB"
   ]
  },
  {
   "cell_type": "code",
   "execution_count": null,
   "metadata": {},
   "outputs": [],
   "source": [
    "# https://www.adb.org/search?keywords=covid-19&page=1\n",
    "result_out={}\n",
    "pageNo=23\n",
    "for page_index in range(1,pageNo+1):\n",
    "    driver.get('https://www.adb.org/search?keywords=covid-19&page=' +str(page_index))\n",
    "    # time.sleep(3)\n",
    "    article_list=driver.find_elements_by_class_name('ola-snippet-inner')\n",
    "    get_filtered_article(article_list,keyword_list,result_out,page_index)\n",
    "df_out=pd.DataFrame.from_dict(result_out)\n",
    "df_out.to_csv('output/ADB.csv')"
   ]
  },
  {
   "cell_type": "markdown",
   "metadata": {},
   "source": [
    "### Extracting data for bloomberg"
   ]
  },
  {
   "cell_type": "code",
   "execution_count": null,
   "metadata": {},
   "outputs": [],
   "source": [
    "result_out={}\n",
    "dfOut=pd.DataFrame()\n",
    "pageNo=3\n",
    "driver.get('https://www.bloomberg.com/search?query=covid-19')\n",
    "for page_index in range(1,pageNo+1):\n",
    "    driver.execute_script('window.scrollTo(0,document.body.scrollHeight);')\n",
    "    load_more=driver.find_element_by_class_name('button__e30d9cff')[1]\n",
    "    time.sleep(2)\n",
    "    load_more.click()\n",
    "    # time.sleep(3)\n",
    "article_list=driver.find_elements_by_class_name('storyItem__192ee8af')\n",
    "get_filtered_article(article_list,keyword_list,result_out,page_index)\n",
    "df_out=pd.DataFrame.from_dict(result_out)\n",
    "df_out.to_csv('output/BloomBerg.csv')"
   ]
  },
  {
   "cell_type": "markdown",
   "metadata": {},
   "source": [
    "### Extracting Data for New York Times"
   ]
  },
  {
   "cell_type": "code",
   "execution_count": null,
   "metadata": {},
   "outputs": [],
   "source": [
    "df_out"
   ]
  },
  {
   "cell_type": "code",
   "execution_count": null,
   "metadata": {},
   "outputs": [],
   "source": [
    "result_out={}\n",
    "df_out=pd.DataFrame()\n",
    "pageNo=20\n",
    "driver.get('https://www.nytimes.com/search?query=covid-19')\n",
    "next_btn=driver.find_element_by_class_name('css-vsuiox').find_element_by_tag_name('button')\n",
    "for page_index in range(1,pageNo+1):\n",
    "    driver.execute_script('window.scrollTo(0,document.body.scrollHeight);')\n",
    "    time.sleep(2)\n",
    "    next_btn.click()\n",
    "time.sleep(3)\n",
    "article_list=driver.find_elements_by_class_name('css-1l4w6pd')\n",
    "get_filtered_article(article_list,keyword_list,result_out,page_index)\n",
    "df_out=pd.DataFrame.from_dict(result_out)\n",
    "df_out.to_csv('output/NYTimes.csv')"
   ]
  },
  {
   "cell_type": "code",
   "execution_count": null,
   "metadata": {},
   "outputs": [],
   "source": [
    "y.click()\n"
   ]
  }
 ],
 "metadata": {
  "file_extension": ".py",
  "kernelspec": {
   "display_name": "Python 3",
   "language": "python",
   "name": "python3"
  },
  "language_info": {
   "codemirror_mode": {
    "name": "ipython",
    "version": 3
   },
   "file_extension": ".py",
   "mimetype": "text/x-python",
   "name": "python",
   "nbconvert_exporter": "python",
   "pygments_lexer": "ipython3",
   "version": "3.7.3"
  },
  "mimetype": "text/x-python",
  "name": "python",
  "npconvert_exporter": "python",
  "pygments_lexer": "ipython3",
  "version": 3
 },
 "nbformat": 4,
 "nbformat_minor": 2
}
