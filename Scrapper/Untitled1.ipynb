{
 "cells": [
  {
   "cell_type": "code",
   "execution_count": null,
   "metadata": {},
   "outputs": [],
   "source": [
    "result_out={}\n",
    "pageNo=3\n",
    "for page_index in range(1,pageNo+1):\n",
    "    driver.get('https://grantstation.com/covid-19-related-funding' + str(page_index))\n",
    "    article_list=driver.find_elements_by_class_name('views-field views-field-body')\n",
    "    get_filtered_article(article_list,keyword_list,result_out,page_index)\n",
    "df_out=pd.DataFrame.from_dict(result_out)\n",
    "df_out.to_csv('Output/bbc.csv')"
   ]
  }
 ],
 "metadata": {
  "kernelspec": {
   "display_name": "Python 3",
   "language": "python",
   "name": "python3"
  },
  "language_info": {
   "codemirror_mode": {
    "name": "ipython",
    "version": 3
   },
   "file_extension": ".py",
   "mimetype": "text/x-python",
   "name": "python",
   "nbconvert_exporter": "python",
   "pygments_lexer": "ipython3",
   "version": "3.7.3"
  }
 },
 "nbformat": 4,
 "nbformat_minor": 2
}
