{
 "cells": [
  {
   "cell_type": "markdown",
   "metadata": {},
   "source": [
    "# **palindrome**"
   ]
  },
  {
   "cell_type": "markdown",
   "metadata": {},
   "source": [
    "- **_number or string: is palindrom ?_**"
   ]
  },
  {
   "cell_type": "code",
   "execution_count": 1,
   "metadata": {},
   "outputs": [
    {
     "name": "stdout",
     "output_type": "stream",
     "text": [
      "121 araara 121 is palindrome\n"
     ]
    }
   ],
   "source": [
    "def ispalindrome():\n",
    "    string1=input(\"enter string or number: \")\n",
    "    string1=string1.casefold()\n",
    "    string2=reversed(string1)\n",
    "    if list(string1)==list(string2):\n",
    "        print(f'{string1} is palindrome')\n",
    "    else:\n",
    "        print(f'{string1} is not palindrome') ;\n",
    "ispalindrome()"
   ]
  },
  {
   "cell_type": "markdown",
   "metadata": {},
   "source": [
    "# **armstrong number**"
   ]
  },
  {
   "cell_type": "markdown",
   "metadata": {},
   "source": [
    "- **_check armstrong_**"
   ]
  },
  {
   "cell_type": "code",
   "execution_count": 2,
   "metadata": {},
   "outputs": [
    {
     "name": "stdout",
     "output_type": "stream",
     "text": [
      "153 is an Armstrong number\n"
     ]
    }
   ],
   "source": [
    "# 153 = 1*1*1 + 5*5*5 + 3*3*3\n",
    "def armstrong():\n",
    "    num = int(input(\"Enter a number: \"))\n",
    "    # initialize sum\n",
    "    sum = 0\n",
    "    # find the sum of the cube of each digit\n",
    "    temp = num\n",
    "    while temp > 0:\n",
    "       digit = temp % 10\n",
    "       sum += digit ** 3\n",
    "       temp //= 10\n",
    "\n",
    "    # display the result\n",
    "    if num == sum:\n",
    "       print(num,\"is an Armstrong number\")\n",
    "    else:\n",
    "       print(num,\"is not an Armstrong number\")\n",
    "armstrong()"
   ]
  },
  {
   "cell_type": "markdown",
   "metadata": {},
   "source": [
    "- **_find armstrong number between lower and upper_**"
   ]
  },
  {
   "cell_type": "code",
   "execution_count": 3,
   "metadata": {},
   "outputs": [
    {
     "name": "stdout",
     "output_type": "stream",
     "text": [
      "0\n",
      "1\n",
      "2\n",
      "3\n",
      "4\n",
      "5\n",
      "6\n",
      "7\n",
      "8\n",
      "9\n",
      "153\n",
      "370\n",
      "371\n",
      "407\n",
      "1634\n",
      "8208\n",
      "9474\n"
     ]
    }
   ],
   "source": [
    "# 153 = 1*1*1 + 5*5*5 + 3*3*3\n",
    "def armstrong():\n",
    "    lower = int(input(\"Enter lower range: \"))\n",
    "    upper = int(input(\"Enter upper range: \"))\n",
    "\n",
    "    for num in range(lower, upper + 1):\n",
    "   # order of number\n",
    "       order = len(str(num))\n",
    "   # initialize sum\n",
    "       sum = 0\n",
    "   # find the sum of the cube of each digit\n",
    "       temp = num\n",
    "       while temp > 0:\n",
    "           digit = temp % 10\n",
    "           sum += digit ** order\n",
    "           temp //= 10\n",
    "    \n",
    "       if num == sum:\n",
    "           print(num)\n",
    "armstrong()"
   ]
  },
  {
   "cell_type": "markdown",
   "metadata": {},
   "source": [
    "# **power of n**"
   ]
  },
  {
   "cell_type": "markdown",
   "metadata": {},
   "source": [
    "- **_method 1_**"
   ]
  },
  {
   "cell_type": "code",
   "execution_count": 4,
   "metadata": {},
   "outputs": [
    {
     "name": "stdout",
     "output_type": "stream",
     "text": [
      "2 power 10 is 1024\n"
     ]
    }
   ],
   "source": [
    "def check_Power():\n",
    "    number=int(input(\"enter number\"))\n",
    "    n=int(input(\"power of :\"))\n",
    "    if number <= 0 or n <=0:\n",
    "        print(\"not a valid input\")\n",
    "    else:\n",
    "        for i in range (1,20):\n",
    "            x = n**i\n",
    "            if x == number :\n",
    "                print(f\"{n} power {i} is {number}\")\n",
    "                break\n",
    "            elif x> number:\n",
    "                print(f\"{n} power {i} is not {number}\")\n",
    "                break\n",
    "check_Power()               "
   ]
  },
  {
   "cell_type": "markdown",
   "metadata": {},
   "source": [
    "- **_method 2_**"
   ]
  },
  {
   "cell_type": "code",
   "execution_count": 5,
   "metadata": {},
   "outputs": [
    {
     "data": {
      "text/plain": [
       "False"
      ]
     },
     "execution_count": 5,
     "metadata": {},
     "output_type": "execute_result"
    }
   ],
   "source": [
    "import math\n",
    "def check_power(N, k):\n",
    "    return N == k**round(math.log(N, k))\n",
    "\n",
    "N=int(input(\"enter number\"))\n",
    "k=int(input(\"power of: \"))\n",
    "check_power(N,k)"
   ]
  },
  {
   "cell_type": "markdown",
   "metadata": {},
   "source": [
    "# **fibonacci series**"
   ]
  },
  {
   "cell_type": "code",
   "execution_count": 7,
   "metadata": {},
   "outputs": [
    {
     "name": "stdout",
     "output_type": "stream",
     "text": [
      "Fibonacci sequence upto 10 :\n",
      "0|1|1|2|3|5|8|13|21|34|"
     ]
    }
   ],
   "source": [
    "nterms = int(input(\"How many terms? \"))\n",
    "# first two terms\n",
    "n1 = 0\n",
    "n2 = 1\n",
    "count = 0\n",
    "\n",
    "# check if the number of terms is valid\n",
    "if nterms <= 0:\n",
    "   print(\"Please enter a positive integer\")\n",
    "elif nterms == 1:\n",
    "   print(\"Fibonacci sequence upto\",nterms,\":\")\n",
    "   print(n1)\n",
    "else:\n",
    "   print(\"Fibonacci sequence upto\",nterms,\":\")\n",
    "   while count < nterms:\n",
    "       print(n1,end='|')\n",
    "       nth = n1 + n2\n",
    "       # update values\n",
    "       n1, n2=n2,nth\n",
    "       count += 1"
   ]
  },
  {
   "cell_type": "markdown",
   "metadata": {},
   "source": [
    "# **factorial**"
   ]
  },
  {
   "cell_type": "code",
   "execution_count": 9,
   "metadata": {},
   "outputs": [
    {
     "name": "stdout",
     "output_type": "stream",
     "text": [
      "The factorial of 10 is 3628800\n"
     ]
    }
   ],
   "source": [
    "def fact():\n",
    "    num = int(input(\"Enter a number: \"))\n",
    "    factorial = 1\n",
    "    # check if the number is negative, positive or zero\n",
    "    if num < 0:\n",
    "       print(\"Sorry, factorial does not exist for negative numbers\")\n",
    "    elif num == 0:\n",
    "       print(\"The factorial of 0 is 1\")\n",
    "    else:\n",
    "       for i in range(1,num + 1):\n",
    "           factorial = factorial*i\n",
    "       print(\"The factorial of\",num,\"is\",factorial)\n",
    "fact()"
   ]
  },
  {
   "cell_type": "markdown",
   "metadata": {},
   "source": [
    "# **prime number**"
   ]
  },
  {
   "cell_type": "code",
   "execution_count": 11,
   "metadata": {},
   "outputs": [
    {
     "name": "stdout",
     "output_type": "stream",
     "text": [
      "Prime numbers between 10 and 100 are:\n",
      "11\n",
      "13\n",
      "17\n",
      "19\n",
      "23\n",
      "29\n",
      "31\n",
      "37\n",
      "41\n",
      "43\n",
      "47\n",
      "53\n",
      "59\n",
      "61\n",
      "67\n",
      "71\n",
      "73\n",
      "79\n",
      "83\n",
      "89\n",
      "97\n"
     ]
    }
   ],
   "source": [
    "lower = int(input(\"Enter lower range: \"))\n",
    "upper = int(input(\"Enter upper range: \"))\n",
    "\n",
    "print(\"Prime numbers between\",lower,\"and\",upper,\"are:\")\n",
    "\n",
    "for num in range(lower,upper + 1):\n",
    "   # prime numbers are greater than 1\n",
    "   if num > 1:\n",
    "       for i in range(2,num):\n",
    "           if (num % i) == 0:\n",
    "               break\n",
    "       else:\n",
    "           print(num)"
   ]
  },
  {
   "cell_type": "markdown",
   "metadata": {},
   "source": [
    "# **fizzbuzz**"
   ]
  },
  {
   "cell_type": "code",
   "execution_count": 19,
   "metadata": {},
   "outputs": [
    {
     "name": "stdout",
     "output_type": "stream",
     "text": [
      "Zero: no fizzbuzz\n",
      "1\n",
      "2\n",
      "buzz\n",
      "4\n",
      "fizz\n",
      "buzz\n",
      "7\n",
      "8\n",
      "buzz\n",
      "fizz\n",
      "11\n",
      "buzz\n",
      "13\n",
      "14\n"
     ]
    }
   ],
   "source": [
    "n,m=int(input(\"n: \")),int(input(\"m: \"))\n",
    "for num in  range(n,m):\n",
    "    if num==0:\n",
    "        print(\"Zero: no fizzbuzz\")\n",
    "    elif num%5==0 and num%3==0:\n",
    "        print(f'{num} : fizzbuzz')\n",
    "    elif num%5==0:\n",
    "        print(\"fizz\")\n",
    "    elif num%3==0:\n",
    "        print(\"buzz\")\n",
    "    else:\n",
    "        print(num)"
   ]
  },
  {
   "cell_type": "markdown",
   "metadata": {},
   "source": [
    "# **print pattern**"
   ]
  },
  {
   "cell_type": "code",
   "execution_count": 30,
   "metadata": {},
   "outputs": [
    {
     "name": "stdout",
     "output_type": "stream",
     "text": [
      "enter range\n",
      " | \n",
      " |  | \n",
      " |  |  | \n",
      " |  |  |  | \n",
      " |  |  |  |  | \n"
     ]
    }
   ],
   "source": [
    "#Triangle\n",
    "print(\"enter range\")\n",
    "n=int(input())\n",
    "for i in range(0,n):\n",
    "    for j in range(0,i+1):\n",
    "        print(\" | \",end=\"\")\n",
    "    print()"
   ]
  },
  {
   "cell_type": "markdown",
   "metadata": {},
   "source": [
    "### **leap year**"
   ]
  },
  {
   "cell_type": "code",
   "execution_count": 32,
   "metadata": {},
   "outputs": [
    {
     "name": "stdout",
     "output_type": "stream",
     "text": [
      "2000 is a leap year\n"
     ]
    }
   ],
   "source": [
    "year = int(input(\"Enter a year: \"))\n",
    "\n",
    "if (year % 4) == 0:\n",
    "   if (year % 100) == 0:\n",
    "       if (year % 400) == 0:\n",
    "           print(\"{0} is a leap year\".format(year))\n",
    "       else:\n",
    "           print(\"{0} is not a leap year\".format(year))\n",
    "   else:\n",
    "       print(\"{0} is a leap year\".format(year))\n",
    "else:\n",
    "   print(\"{0} is not a leap year\".format(year))    "
   ]
  },
  {
   "cell_type": "code",
   "execution_count": null,
   "metadata": {},
   "outputs": [],
   "source": []
  }
 ],
 "metadata": {
  "kernelspec": {
   "display_name": "Python 3",
   "language": "python",
   "name": "python3"
  },
  "language_info": {
   "codemirror_mode": {
    "name": "ipython",
    "version": 3
   },
   "file_extension": ".py",
   "mimetype": "text/x-python",
   "name": "python",
   "nbconvert_exporter": "python",
   "pygments_lexer": "ipython3",
   "version": "3.6.5"
  }
 },
 "nbformat": 4,
 "nbformat_minor": 2
}
