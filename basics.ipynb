{
 "cells": [
  {
   "cell_type": "markdown",
   "metadata": {},
   "source": [
    "# **palindrome**"
   ]
  },
  {
   "cell_type": "markdown",
   "metadata": {},
   "source": [
    "- **_number or string: is palindrom ?_**"
   ]
  },
  {
   "cell_type": "code",
   "execution_count": 1,
   "metadata": {},
   "outputs": [
    {
     "name": "stdout",
     "output_type": "stream",
     "text": [
      "121 is palindrome\n"
     ]
    }
   ],
   "source": [
    "def ispalindrome():\n",
    "    string1=input(\"enter string or number: \")\n",
    "    string1=string1.casefold()\n",
    "    string2=reversed(string1)\n",
    "    if list(string1)==list(string2):\n",
    "        print(f'{string1} is palindrome')\n",
    "    else:\n",
    "        print(f'{string1} is not palindrome') ;\n",
    "ispalindrome()"
   ]
  },
  {
   "cell_type": "markdown",
   "metadata": {},
   "source": [
    "# **armstrong number**"
   ]
  },
  {
   "cell_type": "markdown",
   "metadata": {},
   "source": [
    "- **_check armstrong_**"
   ]
  },
  {
   "cell_type": "code",
   "execution_count": 2,
   "metadata": {},
   "outputs": [
    {
     "name": "stdout",
     "output_type": "stream",
     "text": [
      "153 is an Armstrong number\n"
     ]
    }
   ],
   "source": [
    "# 153 = 1*1*1 + 5*5*5 + 3*3*3\n",
    "def armstrong():\n",
    "    num = int(input(\"Enter a number: \"))\n",
    "    # initialize sum\n",
    "    sum = 0\n",
    "    # find the sum of the cube of each digit\n",
    "    temp = num\n",
    "    while temp > 0:\n",
    "       digit = temp % 10\n",
    "       sum += digit ** 3\n",
    "       temp //= 10\n",
    "\n",
    "    # display the result\n",
    "    if num == sum:\n",
    "       print(num,\"is an Armstrong number\")\n",
    "    else:\n",
    "       print(num,\"is not an Armstrong number\")\n",
    "armstrong()"
   ]
  },
  {
   "cell_type": "markdown",
   "metadata": {},
   "source": [
    "- **_find armstrong number between lower and upper_**"
   ]
  },
  {
   "cell_type": "code",
   "execution_count": 3,
   "metadata": {},
   "outputs": [
    {
     "name": "stdout",
     "output_type": "stream",
     "text": [
      "0\n",
      "1\n",
      "2\n",
      "3\n",
      "4\n",
      "5\n",
      "6\n",
      "7\n",
      "8\n",
      "9\n",
      "153\n",
      "370\n",
      "371\n",
      "407\n"
     ]
    }
   ],
   "source": [
    "# 153 = 1*1*1 + 5*5*5 + 3*3*3\n",
    "def armstrong():\n",
    "    lower = int(input(\"Enter lower range: \"))\n",
    "    upper = int(input(\"Enter upper range: \"))\n",
    "\n",
    "    for num in range(lower, upper + 1):\n",
    "   # order of number\n",
    "       order = len(str(num))\n",
    "   # initialize sum\n",
    "       sum = 0\n",
    "   # find the sum of the cube of each digit\n",
    "       temp = num\n",
    "       while temp > 0:\n",
    "           digit = temp % 10\n",
    "           sum += digit ** order\n",
    "           temp //= 10\n",
    "    \n",
    "       if num == sum:\n",
    "           print(num)\n",
    "armstrong()"
   ]
  },
  {
   "cell_type": "markdown",
   "metadata": {},
   "source": [
    "# **power of n**"
   ]
  },
  {
   "cell_type": "markdown",
   "metadata": {},
   "source": [
    "- **_method 1_**"
   ]
  },
  {
   "cell_type": "code",
   "execution_count": 4,
   "metadata": {},
   "outputs": [
    {
     "name": "stdout",
     "output_type": "stream",
     "text": [
      "999 power 1000 is 367695424770964044626806139220461343972499893805315851451303661815588583691171759298573769740890670043472653912332306494739262796258521801874186549810173710460094500869774399801954246480044957117687300046018997049105032109898925723303702453593233106363521952907688474297759756929064685952104655860693664597955977901676425182829020154056558385702328807819757315437800287075049734753848613963373849815660354668611795203298553587101737612329604187837585764275912106285657301722404248157114176765834106825786149527154743047554930019914422226371680727931484942058979026491105045001557465626949630850576351219407226199931867073523374874793768363273981564287948605027863075184699323389465555247568649841949610514181880318654849814463616623583368881889706150855112487760027102007864168772513848853859955215420654276973633218274220683530470018881658338147664786626331053813203452828022868846955769433332220784844660655726540071457732296242976173636297668590060053518999197076499203840816279411226854445668159015063882820313058345169116254526237737952990035245419734770715445579422066237182008762095718104349261981651643631734536901141476879167355620776893872753485475076299554429239978436664205543797847930558876276068920780473162847300273183371056322972894534456618363131659140590825116021886656393370329338562314310937052945280140058461042400473893689992523704077982580883692159398903351985328043991421228395956593020814592316931877543166782343695497046390524797719667497855390985602046093480070159463534630129323975503294399884704877692175542066069480539944175183706070337559996272330713180884275699508252037339295002559389971046010688483693779922025122141901313481760568753666932632816998153715960117243750768641781558322116884878488909585819326941343380402181206955162039895971182762388468535156116052277808946252781355366287902954417838250783083529993497186833456879290822073788665193003090897750554116313700849730681717053640874985480118471324141762202183729354918987005420885902032117507087565426626556872547581523199300227897754970293850888265084304172273180438109432037210924034782813290028620901367576103832332845329869057638650840502504209817933651401061612294094779048911460976978004863886539885664375829446659285506273301553130284075067588834799387099377704150410777177474522993561532850500593203565091259184757751104007291367732823040170270717587917765302644389554726239830734560001174619602243822725121237421600534716841552676660698055061866221550048990382217590546686375492273807380977014781169931232864007980560021131599259134487144826138932721516508511730341233405920956163411202899092343370188802996172596561754823840067363135125619677521797324318705161502444223245131573691041634885279859407143207310986540561917885814979121847827504415683182050882521046098658120426067370320718753874821954110023232820376077051127906071017361777648564103897065809417313632765514043574725614216344733398248357840268445800593027639893978067727873389139362985035981492682873895139380741666758583499499000001\n"
     ]
    }
   ],
   "source": [
    "def check_Power():\n",
    "    number=int(input(\"enter number\"))\n",
    "    n=int(input(\"power of :\"))\n",
    "    if number <= 0 or n <=0:\n",
    "        print(\"not a valid input\")\n",
    "    else:\n",
    "        for i in range (1,1001): #power upto 1000\n",
    "            x = n**i\n",
    "            if x == number :\n",
    "                print(f\"{n} power {i} is {number}\")\n",
    "                break\n",
    "            elif x> number:\n",
    "                print(f\"{n} power {i} is not {number}\")\n",
    "                break\n",
    "check_Power()    \n",
    "\n",
    "# 999**1000"
   ]
  },
  {
   "cell_type": "markdown",
   "metadata": {},
   "source": [
    "- **_method 2_**"
   ]
  },
  {
   "cell_type": "code",
   "execution_count": 5,
   "metadata": {},
   "outputs": [
    {
     "data": {
      "text/plain": [
       "False"
      ]
     },
     "execution_count": 5,
     "metadata": {},
     "output_type": "execute_result"
    }
   ],
   "source": [
    "import math\n",
    "def check_power(N, k):\n",
    "    return N == k**round(math.log(N, k))\n",
    "\n",
    "N=int(input(\"enter number\"))\n",
    "k=int(input(\"power of: \"))\n",
    "check_power(N,k)"
   ]
  },
  {
   "cell_type": "markdown",
   "metadata": {},
   "source": [
    "# **fibonacci series**"
   ]
  },
  {
   "cell_type": "code",
   "execution_count": 7,
   "metadata": {},
   "outputs": [
    {
     "name": "stdout",
     "output_type": "stream",
     "text": [
      "Fibonacci sequence upto 10 :\n",
      "0|1|1|2|3|5|8|13|21|34|"
     ]
    }
   ],
   "source": [
    "nterms = int(input(\"How many terms? \"))\n",
    "# first two terms\n",
    "n1 = 0\n",
    "n2 = 1\n",
    "count = 0\n",
    "\n",
    "# check if the number of terms is valid\n",
    "if nterms <= 0:\n",
    "   print(\"Please enter a positive integer\")\n",
    "elif nterms == 1:\n",
    "   print(\"Fibonacci sequence upto\",nterms,\":\")\n",
    "   print(n1)\n",
    "else:\n",
    "   print(\"Fibonacci sequence upto\",nterms,\":\")\n",
    "   while count < nterms:\n",
    "       print(n1,end='|')\n",
    "       nth = n1 + n2\n",
    "       # update values\n",
    "       n1, n2=n2,nth\n",
    "       count += 1"
   ]
  },
  {
   "cell_type": "markdown",
   "metadata": {},
   "source": [
    "# **factorial**"
   ]
  },
  {
   "cell_type": "code",
   "execution_count": 9,
   "metadata": {},
   "outputs": [
    {
     "name": "stdout",
     "output_type": "stream",
     "text": [
      "The factorial of 10 is 3628800\n"
     ]
    }
   ],
   "source": [
    "def fact():\n",
    "    num = int(input(\"Enter a number: \"))\n",
    "    factorial = 1\n",
    "    # check if the number is negative, positive or zero\n",
    "    if num < 0:\n",
    "       print(\"Sorry, factorial does not exist for negative numbers\")\n",
    "    elif num == 0:\n",
    "       print(\"The factorial of 0 is 1\")\n",
    "    else:\n",
    "       for i in range(1,num + 1):\n",
    "           factorial = factorial*i\n",
    "       print(\"The factorial of\",num,\"is\",factorial)\n",
    "fact()"
   ]
  },
  {
   "cell_type": "markdown",
   "metadata": {},
   "source": [
    "# **prime number**"
   ]
  },
  {
   "cell_type": "code",
   "execution_count": 11,
   "metadata": {},
   "outputs": [
    {
     "name": "stdout",
     "output_type": "stream",
     "text": [
      "Prime numbers between 10 and 100 are:\n",
      "11\n",
      "13\n",
      "17\n",
      "19\n",
      "23\n",
      "29\n",
      "31\n",
      "37\n",
      "41\n",
      "43\n",
      "47\n",
      "53\n",
      "59\n",
      "61\n",
      "67\n",
      "71\n",
      "73\n",
      "79\n",
      "83\n",
      "89\n",
      "97\n"
     ]
    }
   ],
   "source": [
    "lower = int(input(\"Enter lower range: \"))\n",
    "upper = int(input(\"Enter upper range: \"))\n",
    "\n",
    "print(\"Prime numbers between\",lower,\"and\",upper,\"are:\")\n",
    "\n",
    "for num in range(lower,upper + 1):\n",
    "   # prime numbers are greater than 1\n",
    "   if num > 1:\n",
    "       for i in range(2,num):\n",
    "           if (num % i) == 0:\n",
    "               break\n",
    "       else:\n",
    "           print(num)"
   ]
  },
  {
   "cell_type": "markdown",
   "metadata": {},
   "source": [
    "# **fizzbuzz**"
   ]
  },
  {
   "cell_type": "code",
   "execution_count": 19,
   "metadata": {},
   "outputs": [
    {
     "name": "stdout",
     "output_type": "stream",
     "text": [
      "Zero: no fizzbuzz\n",
      "1\n",
      "2\n",
      "buzz\n",
      "4\n",
      "fizz\n",
      "buzz\n",
      "7\n",
      "8\n",
      "buzz\n",
      "fizz\n",
      "11\n",
      "buzz\n",
      "13\n",
      "14\n"
     ]
    }
   ],
   "source": [
    "n,m=int(input(\"n: \")),int(input(\"m: \"))\n",
    "for num in  range(n,m):\n",
    "    if num==0:\n",
    "        print(\"Zero: no fizzbuzz\")\n",
    "    elif num%5==0 and num%3==0:\n",
    "        print(f'{num} : fizzbuzz')\n",
    "    elif num%5==0:\n",
    "        print(\"fizz\")\n",
    "    elif num%3==0:\n",
    "        print(\"buzz\")\n",
    "    else:\n",
    "        print(num)"
   ]
  },
  {
   "cell_type": "markdown",
   "metadata": {},
   "source": [
    "# **print pattern**"
   ]
  },
  {
   "cell_type": "code",
   "execution_count": 30,
   "metadata": {},
   "outputs": [
    {
     "name": "stdout",
     "output_type": "stream",
     "text": [
      "enter range\n",
      " | \n",
      " |  | \n",
      " |  |  | \n",
      " |  |  |  | \n",
      " |  |  |  |  | \n"
     ]
    }
   ],
   "source": [
    "#Triangle\n",
    "print(\"enter range\")\n",
    "n=int(input())\n",
    "for i in range(0,n):\n",
    "    for j in range(0,i+1):\n",
    "        print(\" | \",end=\"\")\n",
    "    print()"
   ]
  },
  {
   "cell_type": "markdown",
   "metadata": {},
   "source": [
    "### **leap year**"
   ]
  },
  {
   "cell_type": "code",
   "execution_count": 32,
   "metadata": {},
   "outputs": [
    {
     "name": "stdout",
     "output_type": "stream",
     "text": [
      "2000 is a leap year\n"
     ]
    }
   ],
   "source": [
    "year = int(input(\"Enter a year: \"))\n",
    "\n",
    "if (year % 4) == 0:\n",
    "   if (year % 100) == 0:\n",
    "       if (year % 400) == 0:\n",
    "           print(\"{0} is a leap year\".format(year))\n",
    "       else:\n",
    "           print(\"{0} is not a leap year\".format(year))\n",
    "   else:\n",
    "       print(\"{0} is a leap year\".format(year))\n",
    "else:\n",
    "   print(\"{0} is not a leap year\".format(year))    "
   ]
  },
  {
   "cell_type": "code",
   "execution_count": null,
   "metadata": {},
   "outputs": [],
   "source": []
  }
 ],
 "metadata": {
  "kernelspec": {
   "display_name": "Python 3",
   "language": "python",
   "name": "python3"
  },
  "language_info": {
   "codemirror_mode": {
    "name": "ipython",
    "version": 3
   },
   "file_extension": ".py",
   "mimetype": "text/x-python",
   "name": "python",
   "nbconvert_exporter": "python",
   "pygments_lexer": "ipython3",
   "version": "3.6.5"
  }
 },
 "nbformat": 4,
 "nbformat_minor": 2
}
